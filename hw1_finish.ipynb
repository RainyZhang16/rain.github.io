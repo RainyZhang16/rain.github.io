{
 "cells": [
  {
   "cell_type": "markdown",
   "id": "9b58bb8f",
   "metadata": {},
   "source": [
    "### 第一题\n",
    "* 有一串观测仪器的站位经纬度数据如下，试提取出数据中的经度[0,360]和纬度[-90,90]数值，将其统一保留两位小数分别存放在名为lon,lat的list中，其中的异常值用None代替。"
   ]
  },
  {
   "cell_type": "code",
   "execution_count": 48,
   "id": "31d99cc7",
   "metadata": {},
   "outputs": [],
   "source": [
    "lon_lat_list=[\n",
    "    '160.4397 E, 10.110 N',\n",
    "    '190.2048 E,12.120 N',\n",
    "    '66.66666E, -12.130 N',\n",
    "    '340.19°E, -15 N',\n",
    "    '010 E,030 N',\n",
    "    '9999 E, -9999 N',\n",
    "    '270.1960 E, 63.2333333 N'\n",
    "]"
   ]
  },
  {
   "cell_type": "code",
   "execution_count": 63,
   "id": "4a1adeed",
   "metadata": {},
   "outputs": [
    {
     "name": "stdout",
     "output_type": "stream",
     "text": [
      "[160.44, 190.2, 66.67, 340.19, 10.0, None, 270.2]\n",
      "[10.11, 12.12, -12.13, -15.0, 30.0, None, 63.23]\n"
     ]
    }
   ],
   "source": [
    "temp_lon = []\n",
    "temp_lat = []\n",
    "for i in lon_lat_list:\n",
    "    temp = i.split(',')\n",
    "    temp_lon.append(float(temp[0].split('E')[0][:-1]))\n",
    "    temp_lat.append(float(temp[1].split('N')[0].strip()))\n",
    "\n",
    "    \n",
    "lon = []\n",
    "lat = []\n",
    "for i in range(len(temp_lat)):\n",
    "    if (temp_lon[i]>0 and temp_lon[i]<360):\n",
    "        lon.append(round(temp_lon[i],2))\n",
    "    else:\n",
    "        lon.append(None)\n",
    "    if (temp_lat[i]>-90 and temp_lat[i]<90):\n",
    "        lat.append(round(temp_lat[i],2))\n",
    "    else:\n",
    "        lat.append(None)\n",
    "print(lon)\n",
    "print(lat)"
   ]
  },
  {
   "cell_type": "code",
   "execution_count": 59,
   "id": "4e456680",
   "metadata": {},
   "outputs": [
    {
     "data": {
      "text/plain": [
       "63.23"
      ]
     },
     "execution_count": 59,
     "metadata": {},
     "output_type": "execute_result"
    }
   ],
   "source": [
    "num = 63.2333333\n",
    "round(num,2)"
   ]
  },
  {
   "cell_type": "markdown",
   "id": "744c738f",
   "metadata": {},
   "source": [
    "### 第二题\n",
    "* CTD仪器在观测时会下放至一定水深再拉回水面，同时由于观测频率问题可能会在一个深度得到多个数值，一般只需要取下沉过程中的数值且每个深度只保留一个值，尝试处理该深度序列以达到要求。"
   ]
  },
  {
   "cell_type": "code",
   "execution_count": 1,
   "id": "6932040a",
   "metadata": {},
   "outputs": [],
   "source": [
    "#下沉深度表\n",
    "p = [0, 5, 10, 10, 10, 12, 13, 15, 15, 15, \n",
    "     18, 18, 19, 20, 25, 50, 100, 100, \n",
    "     100, 100, 200, 200, 500, 800, 1000, 1000, 1001,\n",
    "     1001,990, 900, 800, 800, 500, 300, 100, 0]"
   ]
  },
  {
   "cell_type": "code",
   "execution_count": 2,
   "id": "adf7b73d",
   "metadata": {},
   "outputs": [
    {
     "data": {
      "text/plain": [
       "{0,\n",
       " 5,\n",
       " 10,\n",
       " 12,\n",
       " 13,\n",
       " 15,\n",
       " 18,\n",
       " 19,\n",
       " 20,\n",
       " 25,\n",
       " 50,\n",
       " 100,\n",
       " 200,\n",
       " 300,\n",
       " 500,\n",
       " 800,\n",
       " 900,\n",
       " 990,\n",
       " 1000,\n",
       " 1001}"
      ]
     },
     "execution_count": 2,
     "metadata": {},
     "output_type": "execute_result"
    }
   ],
   "source": [
    "set(p)"
   ]
  },
  {
   "cell_type": "markdown",
   "id": "5c12c827",
   "metadata": {},
   "source": [
    "### 第三题\n",
    "* 假设存在这么一些字典：键（key）为a~z字母中的若干个大小写随机乱序混合组成，值(value)为键在字母表中对应的顺序序号,即'a'和'A'的对应值均为1，'b’和'B'对应值均为2，以此类推，不过在其中会混有键值不匹配的情况。例如下面的例子，例子中的'D'和'e'是不匹配的，试通过编程找出此类字典中不匹配的键，并将找到的键逐行输出。"
   ]
  },
  {
   "cell_type": "code",
   "execution_count": 14,
   "id": "48302b98",
   "metadata": {},
   "outputs": [],
   "source": [
    "# 输入例子\n",
    "my_dict = {'a':1,'c':3, 'B':2, 'b':2, 'y':25,'D':5, 'e':4}"
   ]
  },
  {
   "cell_type": "code",
   "execution_count": 28,
   "id": "f29a5e72",
   "metadata": {},
   "outputs": [],
   "source": [
    "# 若干运行后输出：\n",
    "#错误的是：\n",
    "#'D'\n",
    "#'e'"
   ]
  },
  {
   "cell_type": "code",
   "execution_count": 16,
   "id": "74c7eec9",
   "metadata": {},
   "outputs": [
    {
     "data": {
      "text/plain": [
       "1"
      ]
     },
     "execution_count": 16,
     "metadata": {},
     "output_type": "execute_result"
    }
   ],
   "source": [
    "ord('a')-96"
   ]
  },
  {
   "cell_type": "code",
   "execution_count": 18,
   "id": "fa53178c",
   "metadata": {},
   "outputs": [
    {
     "data": {
      "text/plain": [
       "97"
      ]
     },
     "execution_count": 18,
     "metadata": {},
     "output_type": "execute_result"
    }
   ],
   "source": [
    "ord('a')"
   ]
  },
  {
   "cell_type": "code",
   "execution_count": 19,
   "id": "48ab8344",
   "metadata": {},
   "outputs": [
    {
     "data": {
      "text/plain": [
       "122"
      ]
     },
     "execution_count": 19,
     "metadata": {},
     "output_type": "execute_result"
    }
   ],
   "source": [
    "ord('z')"
   ]
  },
  {
   "cell_type": "code",
   "execution_count": 17,
   "id": "24c78127",
   "metadata": {},
   "outputs": [
    {
     "data": {
      "text/plain": [
       "1"
      ]
     },
     "execution_count": 17,
     "metadata": {},
     "output_type": "execute_result"
    }
   ],
   "source": [
    "ord('A')-64"
   ]
  },
  {
   "cell_type": "code",
   "execution_count": 20,
   "id": "630a9133",
   "metadata": {},
   "outputs": [
    {
     "data": {
      "text/plain": [
       "65"
      ]
     },
     "execution_count": 20,
     "metadata": {},
     "output_type": "execute_result"
    }
   ],
   "source": [
    "ord('A')"
   ]
  },
  {
   "cell_type": "code",
   "execution_count": 21,
   "id": "91320b04",
   "metadata": {},
   "outputs": [
    {
     "data": {
      "text/plain": [
       "90"
      ]
     },
     "execution_count": 21,
     "metadata": {},
     "output_type": "execute_result"
    }
   ],
   "source": [
    "ord('Z')"
   ]
  },
  {
   "cell_type": "code",
   "execution_count": 23,
   "id": "0d741aa4",
   "metadata": {},
   "outputs": [
    {
     "name": "stdout",
     "output_type": "stream",
     "text": [
      "错误的是：\n",
      "D\n",
      "e\n"
     ]
    }
   ],
   "source": [
    "print(\"错误的是：\")\n",
    "for i in my_dict.keys():\n",
    "    if ord(i)<=90:\n",
    "        if my_dict[i] != ord(i)-64:\n",
    "            print(i)\n",
    "            #print(my_dict[i])\n",
    "    else:\n",
    "        if my_dict[i] != ord(i)-96:\n",
    "            print(i)\n",
    "            #print(my_dict[i])"
   ]
  },
  {
   "cell_type": "code",
   "execution_count": null,
   "id": "91ad4f15",
   "metadata": {},
   "outputs": [],
   "source": []
  }
 ],
 "metadata": {
  "kernelspec": {
   "display_name": "Python 3",
   "language": "python",
   "name": "python3"
  },
  "language_info": {
   "codemirror_mode": {
    "name": "ipython",
    "version": 3
   },
   "file_extension": ".py",
   "mimetype": "text/x-python",
   "name": "python",
   "nbconvert_exporter": "python",
   "pygments_lexer": "ipython3",
   "version": "3.8.8"
  }
 },
 "nbformat": 4,
 "nbformat_minor": 5
}
