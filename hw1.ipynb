{
 "cells": [
  {
   "cell_type": "markdown",
   "metadata": {},
   "source": [
    "### 第一题\n",
    "* 有一串观测仪器的站位经纬度数据如下，试提取出数据中的经度[0,360]和纬度[-90,90]数值，将其统一保留两位小数分别存放在名为lon,lat的list中，其中的异常值用None代替。"
   ]
  },
  {
   "cell_type": "code",
   "execution_count": null,
   "metadata": {},
   "outputs": [],
   "source": [
    "lon_lat_list=[\n",
    "    '160.4397 E, 10.110 N',\n",
    "    '190.2048 E,12.120 N',\n",
    "    '66.66666E, -12.130 N',\n",
    "    '340.19°E, -15 N',\n",
    "    '010 E,030 N',\n",
    "    '9999 E, -9999 N'，\n",
    "    '270.1960 E, 63.2333333 N'\n",
    "]"
   ]
  },
  {
   "cell_type": "markdown",
   "metadata": {},
   "source": [
    "### 第二题\n",
    "* CTD仪器在观测时会下放至一定水深再拉回水面，同时由于观测频率问题可能会在一个深度得到多个数值，一般只需要取下沉过程中的数值且每个深度只保留一个值，尝试处理该深度序列以达到要求。"
   ]
  },
  {
   "cell_type": "code",
   "execution_count": 11,
   "metadata": {},
   "outputs": [],
   "source": [
    "#下沉深度表\n",
    "p = [0, 5, 10, 10, 10, 12, 13, 15, 15, 15, \n",
    "     18, 18, 19, 20, 25, 50, 100, 100, \n",
    "     100, 100, 200, 200, 500, 800, 1000, 1000, 1001,\n",
    "     1001,990, 900, 800, 800, 500, 300, 100, 0]"
   ]
  },
  {
   "cell_type": "markdown",
   "metadata": {},
   "source": [
    "### 第三题\n",
    "* 假设存在这么一些字典：键（key）为a~z字母中的若干个大小写随机乱序混合组成，值(value)为键在字母表中对应的顺序序号,即'a'和'A'的对应值均为1，'b’和'B'对应值均为2，以此类推，不过在其中会混有键值不匹配的情况。例如下面的例子，例子中的'D'和'e'是不匹配的，试通过编程找出此类字典中不匹配的键，并将找到的键逐行输出。"
   ]
  },
  {
   "cell_type": "code",
   "execution_count": 3,
   "metadata": {},
   "outputs": [],
   "source": [
    "# 输入例子\n",
    "my_dict = {'a':1,'c':3, 'B':2, 'b':2, 'y':25,'D':5, 'e':4}"
   ]
  },
  {
   "cell_type": "code",
   "execution_count": 3,
   "metadata": {},
   "outputs": [
    {
     "name": "stdout",
     "output_type": "stream",
     "text": [
      "错误的是：\n",
      "'D'\n",
      "'e'\n"
     ]
    }
   ],
   "source": [
    "# 若干运行后输出："
   ]
  },
  {
   "cell_type": "code",
   "execution_count": null,
   "metadata": {},
   "outputs": [],
   "source": []
  }
 ],
 "metadata": {
  "kernelspec": {
   "display_name": "Python 3",
   "language": "python",
   "name": "python3"
  },
  "language_info": {
   "codemirror_mode": {
    "name": "ipython",
    "version": 3
   },
   "file_extension": ".py",
   "mimetype": "text/x-python",
   "name": "python",
   "nbconvert_exporter": "python",
   "pygments_lexer": "ipython3",
   "version": "3.8.5"
  }
 },
 "nbformat": 4,
 "nbformat_minor": 5
}
